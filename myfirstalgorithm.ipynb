{
  "nbformat": 4,
  "nbformat_minor": 0,
  "metadata": {
    "colab": {
      "provenance": []
    },
    "kernelspec": {
      "name": "python3",
      "display_name": "Python 3"
    },
    "language_info": {
      "name": "python"
    }
  },
  "cells": [
    {
      "cell_type": "code",
      "source": [
        "x = input(\"Digite o primeiro valor: \")\n",
        "y = input(\"Digite o segundo valor: \")\n",
        "\n",
        "x = float(x)\n",
        "y = float(y)\n",
        "\n",
        "\n",
        "print(\"Para soma, digite 1\")\n",
        "print(\"Para subtração, digite 2\")\n",
        "print(\"Para multiplicação, digite 3\")\n",
        "print(\"Para divisão, digite 4\")\n",
        "\n",
        "z = input(\"Qual a operação desejada? \")\n",
        "z = int(z)\n",
        "\n",
        "if z == 1:\n",
        "  print(x + y)\n",
        "elif z == 2:\n",
        "  print(x-y)\n",
        "elif z == 3:\n",
        "  print(x * y)\n",
        "elif z == 4:\n",
        "  print(x / y)\n",
        "else:\n",
        "  print(\"Operação Inválida\")"
      ],
      "metadata": {
        "id": "NTHEU_8uemni",
        "colab": {
          "base_uri": "https://localhost:8080/"
        },
        "outputId": "e2f8d42d-68b8-4f93-b045-7a20e0ee8513"
      },
      "execution_count": 18,
      "outputs": [
        {
          "output_type": "stream",
          "name": "stdout",
          "text": [
            "Digite o primeiro valor: 5\n",
            "Digite o segundo valor: 25\n",
            "Para soma, digite 1\n",
            "Para subtração, digite 2\n",
            "Para multiplicação, digite 3\n",
            "Para divisão, digite 4\n",
            "Qual a operação desejada? 2\n",
            "-20.0\n"
          ]
        }
      ]
    }
  ]
}